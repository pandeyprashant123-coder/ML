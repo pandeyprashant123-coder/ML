{
 "cells": [
  {
   "cell_type": "markdown",
   "id": "e0873e66",
   "metadata": {},
   "source": [
    "# barplot"
   ]
  },
  {
   "cell_type": "code",
   "execution_count": null,
   "id": "0a7c76ae",
   "metadata": {},
   "outputs": [],
   "source": [
    "import matplotlib.pyplot as plt\n",
    "x=[\"a\",\"b\",\"c\",\"d\",\"e\"]\n",
    "y=[20,55,80,90,22]\n",
    "plt.title(\"random\")\n",
    "plt.xlabel(\"alphabets\",fontsize=15)\n",
    "plt.ylabel(\"percentge\", fontsize=30)\n",
    "c=[\"y\",\"b\",\"m\",\"g\",\"r\"]\n",
    "plt.bar(x,y,width=0.5,color=c,linewidth=5,alpha=0.7) #alpha=opacity\n",
    "plt.show()"
   ]
  },
  {
   "cell_type": "code",
   "execution_count": null,
   "id": "1bbd0c09",
   "metadata": {},
   "outputs": [],
   "source": [
    "import matplotlib.pyplot as plt\n",
    "import numpy as np\n",
    "\n",
    "x=[\"a\",\"b\",\"c\",\"d\",\"e\"]\n",
    "y=[20,55,80,90,22]\n",
    "z=[30,40,60,80,50]\n",
    "\n",
    "p=np.arange(len(x))\n",
    "width=0.2\n",
    "p1=[j+width for j in p]\n",
    "\n",
    "plt.title(\"random\")\n",
    "plt.xlabel(\"alphabets\",fontsize=15)\n",
    "plt.ylabel(\"percentge\", fontsize=30)\n",
    "\n",
    "plt.bar(p,y,width,color=\"r\",linewidth=5)\n",
    "plt.bar(p1,z,width,color=\"y\",linewidth=5)\n",
    "\n",
    "plt.xticks(p+width/2,x,rotation=10)\n",
    "plt.show()"
   ]
  },
  {
   "cell_type": "code",
   "execution_count": null,
   "id": "b4aa2f78",
   "metadata": {},
   "outputs": [],
   "source": [
    "\n",
    "import matplotlib.pyplot as plt\n",
    "x=[\"a\",\"b\",\"c\",\"d\",\"e\"]\n",
    "y=[20,55,80,90,22]\n",
    "z=[30,40,60,80,50]\n",
    "\n",
    "plt.title(\"random\")\n",
    "plt.xlabel(\"alphabets\",fontsize=15)\n",
    "plt.ylabel(\"percentge\", fontsize=30)\n",
    "\n",
    "plt.barh(x,y,color=\"r\",linewidth=5,alpha=0.7)\n",
    "plt.barh(x,z,color=\"y\",linewidth=5,alpha=0.7)\n",
    "\n",
    "plt.show()"
   ]
  },
  {
   "cell_type": "markdown",
   "id": "03138422",
   "metadata": {},
   "source": [
    "# Scatterplot"
   ]
  },
  {
   "cell_type": "code",
   "execution_count": null,
   "id": "f8884a1a",
   "metadata": {},
   "outputs": [],
   "source": [
    "import matplotlib.pyplot as plt\n",
    "\n",
    "day=[1,2,3,4,5,6,7]\n",
    "no=[2,5,7,4,6,7,5]\n",
    "size=[300,400,820,660,910,210,680]\n",
    "colors=[30,40,82,66,91,21,68]\n",
    "\n",
    "plt.title(\"scatter plot\",fontsize=15)\n",
    "plt.xlabel(\"day\",fontsize=15)\n",
    "plt.ylabel(\"numbers\",fontsize=15)\n",
    "\n",
    "plt.scatter(day,no,c=colors,s=size,marker=\"*\",edgecolor=\"g\",cmap=\"viridis\")\n",
    "plt.colorbar()\n",
    "plt.show()\n"
   ]
  },
  {
   "cell_type": "markdown",
   "id": "e2824413",
   "metadata": {},
   "source": [
    "# Histogram"
   ]
  },
  {
   "cell_type": "code",
   "execution_count": 46,
   "id": "872607e1",
   "metadata": {},
   "outputs": [
    {
     "name": "stdout",
     "output_type": "stream",
     "text": [
      "[27 29 57 44 26 19 18 27 44 20 38 21 41 38 34 33 35 47 49 52 47 22 32 59\n",
      " 30 29 13 41 40 43 14 24 21 34 23 33 41 30 37 30 57 45 33 58 44 22 10 10\n",
      " 22 19],\n"
     ]
    }
   ],
   "source": [
    "import matplotlib.pyplot as plt\n",
    "import numpy as np\n",
    "import random\n",
    "\n",
    "x=np.random.randint(10,60,(50))"
   ]
  },
  {
   "cell_type": "code",
   "execution_count": null,
   "id": "09292a6b",
   "metadata": {},
   "outputs": [],
   "source": [
    "no=[24,12,36,41,32,23,36,15,25,18,45,53,25,15,46,11,58,17,13,54,39,45,35,37,14,56,29,44,18,39,21,20,5,24,52,32,44,55,44,53,50,47,25,57,1,8]\n",
    "l=[10,20,30,40,50,60]\n",
    "\n",
    "plt.hist(no,color=\"r\",bins=l,edgecolor=\"b\")\n",
    "plt.xlabel(\"python\")\n",
    "plt.ylabel(\"No.\")\n",
    "\n",
    "plt.show()"
   ]
  },
  {
   "cell_type": "code",
   "execution_count": null,
   "id": "1c4e20bd",
   "metadata": {},
   "outputs": [],
   "source": []
  }
 ],
 "metadata": {
  "kernelspec": {
   "display_name": "Python 3 (ipykernel)",
   "language": "python",
   "name": "python3"
  },
  "language_info": {
   "codemirror_mode": {
    "name": "ipython",
    "version": 3
   },
   "file_extension": ".py",
   "mimetype": "text/x-python",
   "name": "python",
   "nbconvert_exporter": "python",
   "pygments_lexer": "ipython3",
   "version": "3.11.1"
  }
 },
 "nbformat": 4,
 "nbformat_minor": 5
}
