{
 "cells": [
  {
   "cell_type": "code",
   "execution_count": null,
   "id": "8e14b5b2",
   "metadata": {},
   "outputs": [],
   "source": [
    "pip install cv2"
   ]
  },
  {
   "cell_type": "code",
   "execution_count": null,
   "id": "111a3321",
   "metadata": {},
   "outputs": [],
   "source": [
    "import cv2"
   ]
  },
  {
   "cell_type": "code",
   "execution_count": 1,
   "id": "d4fbaf27",
   "metadata": {},
   "outputs": [],
   "source": [
    "import cv2\n",
    "import os\n",
    "import numpy as np\n",
    "\n",
    "subjects = [\"\",\"sujan\",\"prashnta\",\"yashwan\",\"swikar\"]\n",
    "\n",
    "def detect_face(img):\n",
    "    gray = cv2.cvtColor(img, cv2.COLOR_BGR2GRAY)\n",
    "    face_cascade = cv2.CascadeClassifier('lbpcascade_frontalface_improved.xml')\n",
    "    faces = face_cascade.detectMultiScale(gray,1.1, 5)\n",
    "    grays=[]\n",
    "    face_code=[]\n",
    "    if(len(faces)==0):\n",
    "        return None,None\n",
    "    else:\n",
    "        for face in faces:\n",
    "            (x,y,w,h)=face\n",
    "            grays.append(gray[y:y+w, x:x+h])\n",
    "            face_code.append(face)\n",
    "        return grays,face_code\n",
    "\n",
    "    \n",
    "    "
   ]
  },
  {
   "cell_type": "code",
   "execution_count": 2,
   "id": "7c21cad0",
   "metadata": {},
   "outputs": [],
   "source": [
    "def prepare_training_data(data_folder_path):\n",
    "    dirs=os.listdir(data_folder_path)\n",
    "    faces=[]\n",
    "    labels=[]\n",
    "    subjects_image_name = os.listdir(data_folder_path)\n",
    "    for image_name in subjects_image_name:\n",
    "        label=image_name.split(\".\")[0]\n",
    "        image_path = data_folder_path+\"/\"+image_name\n",
    "        image = cv2.imread(image_path)\n",
    "        cv2.imshow(\"training on image...\",image)\n",
    "        cv2.waitKey(100)\n",
    "        face,rect = detect_face(image)\n",
    "        if face is not None:\n",
    "            for fa in face:\n",
    "                faces.append(fa)\n",
    "#                 labels.append(label)\n",
    "    cv2.destroyAllWindows()\n",
    "    cv2.waitKey(1)\n",
    "    cv2.destroyAllWindows()\n",
    "    return faces,[0,1]\n",
    "#     return subjects_image_name\n",
    "# prepare_training_data('cvimages')\n",
    "\n",
    "        "
   ]
  },
  {
   "cell_type": "code",
   "execution_count": null,
   "id": "f22249ad",
   "metadata": {},
   "outputs": [],
   "source": [
    "print(\"preparing data...\")\n",
    "faces,labels = prepare_training_data('cvimages')\n",
    "print(\"data prepared\")\n",
    "print(\"total faces\",len(faces))\n",
    "print(\"total labels\",len(labels))\n",
    "# print(faces)"
   ]
  },
  {
   "cell_type": "code",
   "execution_count": 4,
   "id": "af007302",
   "metadata": {},
   "outputs": [],
   "source": [
    "face_recognizer= cv2.face.LBPHFaceRecognizer_create();"
   ]
  },
  {
   "cell_type": "code",
   "execution_count": 5,
   "id": "2f89ae93",
   "metadata": {},
   "outputs": [],
   "source": [
    "face_recognizer.train(faces,np.array(labels))"
   ]
  },
  {
   "cell_type": "code",
   "execution_count": 6,
   "id": "a1574233",
   "metadata": {},
   "outputs": [],
   "source": [
    "def rectangle(img,rect):\n",
    "    (x,y,w,h) = rect\n",
    "    cv2.rectangle(img,(x,y),(x+w,y+h),(0,255,0),2)\n",
    "def draw_text(img,text,x,y):\n",
    "    cv2.putText(img,text,(x,y),cv2.FONT_HERSHEY_PLAIN,1.5,(0,255,0),2)\n",
    "\n",
    "    "
   ]
  },
  {
   "cell_type": "code",
   "execution_count": null,
   "id": "2e405d45",
   "metadata": {},
   "outputs": [],
   "source": [
    "def predict(test_img):\n",
    "    img = test_img.copy()\n",
    "    face,rect = detect_face(img)\n",
    "    if face is None:\n",
    "        return test_img\n",
    "    else:\n",
    "        for fa,re in zip(face,rect):\n",
    "            label = face_recognizer.predict(fa)\n",
    "            label_text = subjects[label[0]]\n",
    "            print(label_text)\n",
    "            rectangle(img,re)\n",
    "            draw_text(img,label_text,re[0],re[1]-5)\n",
    "    return img\n",
    "print(\"hello\")"
   ]
  },
  {
   "cell_type": "code",
   "execution_count": null,
   "id": "e4b231d6",
   "metadata": {},
   "outputs": [],
   "source": [
    "\n",
    "cap = cv2.VideoCapture(0)\n",
    "print(\"detection initiating\")\n",
    "while(cap.isOpened()):\n",
    "    ret,frame= cap.read()\n",
    "    if frame is not None:\n",
    "        predicted_image = predict(frame)\n",
    "#         print(\"prediction complete\")\n",
    "        cv2.imshow(subjects[0],predicted_image)\n",
    "        if cv2.waitKey(1)& 0xFF==ord('q'):\n",
    "            break\n",
    "cap.release()\n",
    "cv2.destroyAllWindows()\n",
    "\n"
   ]
  },
  {
   "cell_type": "code",
   "execution_count": null,
   "id": "d93cbe30",
   "metadata": {},
   "outputs": [],
   "source": []
  }
 ],
 "metadata": {
  "kernelspec": {
   "display_name": "Python 3 (ipykernel)",
   "language": "python",
   "name": "python3"
  },
  "language_info": {
   "codemirror_mode": {
    "name": "ipython",
    "version": 3
   },
   "file_extension": ".py",
   "mimetype": "text/x-python",
   "name": "python",
   "nbconvert_exporter": "python",
   "pygments_lexer": "ipython3",
   "version": "3.11.1"
  }
 },
 "nbformat": 4,
 "nbformat_minor": 5
}
